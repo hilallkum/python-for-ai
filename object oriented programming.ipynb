{
 "cells": [
  {
   "cell_type": "markdown",
   "metadata": {},
   "source": [
    "# Object Oriented Programming"
   ]
  },
  {
   "cell_type": "markdown",
   "metadata": {},
   "source": [
    "## Class & Constructor"
   ]
  },
  {
   "cell_type": "code",
   "execution_count": 10,
   "metadata": {},
   "outputs": [
    {
     "data": {
      "text/plain": [
       "<__main__.customer at 0x7fb6e151e550>"
      ]
     },
     "execution_count": 10,
     "metadata": {},
     "output_type": "execute_result"
    }
   ],
   "source": [
    "class customer:\n",
    "    \n",
    "    def __init__(self,name,surname,salary):   # constructor\n",
    "        self.name = name\n",
    "        self.surname = surname\n",
    "        self.salary = salary\n",
    "        self.email = name+surname+\"@.asd.com\"\n",
    "        \n",
    "customer1 = customer(\"hilal\",\"kum\",100)\n",
    "customer1"
   ]
  },
  {
   "cell_type": "code",
   "execution_count": 11,
   "metadata": {},
   "outputs": [
    {
     "data": {
      "text/plain": [
       "'hilal'"
      ]
     },
     "execution_count": 11,
     "metadata": {},
     "output_type": "execute_result"
    }
   ],
   "source": [
    "customer1.name"
   ]
  },
  {
   "cell_type": "code",
   "execution_count": 12,
   "metadata": {},
   "outputs": [
    {
     "data": {
      "text/plain": [
       "'hilalkum@.asd.com'"
      ]
     },
     "execution_count": 12,
     "metadata": {},
     "output_type": "execute_result"
    }
   ],
   "source": [
    "customer1.email"
   ]
  },
  {
   "cell_type": "code",
   "execution_count": 81,
   "metadata": {},
   "outputs": [
    {
     "data": {
      "text/plain": [
       "'hilal kum'"
      ]
     },
     "execution_count": 81,
     "metadata": {},
     "output_type": "execute_result"
    }
   ],
   "source": [
    "def giveNameSurname(self):\n",
    "    return self.name + ' ' + self.surname\n",
    "customer1 = customer(\"hilal\",\"kum\",100)\n",
    "giveNameSurname(customer1)"
   ]
  },
  {
   "cell_type": "markdown",
   "metadata": {},
   "source": [
    "## Class Variable"
   ]
  },
  {
   "cell_type": "code",
   "execution_count": 66,
   "metadata": {},
   "outputs": [
    {
     "name": "stdout",
     "output_type": "stream",
     "text": [
      "First salary: 2500.0\n",
      "New salary: 7500.0\n"
     ]
    }
   ],
   "source": [
    "class customer:\n",
    "    \n",
    "    rate_of_interest = 2 #zam [tr]\n",
    "    counter = 0\n",
    "    \n",
    "    def __init__(self,name,surname,salary):   # constructor\n",
    "        self.name = name\n",
    "        self.surname = surname\n",
    "        self.salary = salary\n",
    "        self.email = name+surname+\"@.asd.com\"\n",
    "    \n",
    "        customer.counter = customer.counter + 1\n",
    "\n",
    "    \n",
    "    def increase(self):\n",
    "        self.salary = self.salary + self.salary * self.rate_of_interest\n",
    "        \n",
    "        \n",
    "customer1 = customer(\"hilal\",\"kum\",float(2500))\n",
    "print(\"First salary:\",customer1.salary)\n",
    "\n",
    "customer1.increase()\n",
    "print(\"New salary:\",customer1.salary)"
   ]
  },
  {
   "cell_type": "code",
   "execution_count": 67,
   "metadata": {},
   "outputs": [
    {
     "data": {
      "text/plain": [
       "1"
      ]
     },
     "execution_count": 67,
     "metadata": {},
     "output_type": "execute_result"
    }
   ],
   "source": [
    "customer1.counter #the number of customer"
   ]
  },
  {
   "cell_type": "code",
   "execution_count": 68,
   "metadata": {},
   "outputs": [
    {
     "data": {
      "text/plain": [
       "2"
      ]
     },
     "execution_count": 68,
     "metadata": {},
     "output_type": "execute_result"
    }
   ],
   "source": [
    "customer2 = customer(\"tom\",\"holland\",float(3000))\n",
    "customer2.counter"
   ]
  },
  {
   "cell_type": "markdown",
   "metadata": {},
   "source": [
    "## Class Example"
   ]
  },
  {
   "cell_type": "code",
   "execution_count": 69,
   "metadata": {},
   "outputs": [],
   "source": [
    "customer2 = customer(\"tom\",\"holland\",float(3000))\n",
    "customer3 = customer(\"andrew\",\"garfield\",float(5000))\n",
    "customer4 = customer(\"tobey\",\"maguire\",float(7000))"
   ]
  },
  {
   "cell_type": "code",
   "execution_count": 84,
   "metadata": {},
   "outputs": [],
   "source": [
    "list1 = [customer2,customer3,customer4]"
   ]
  },
  {
   "cell_type": "code",
   "execution_count": 85,
   "metadata": {},
   "outputs": [
    {
     "data": {
      "text/plain": [
       "[<__main__.customer at 0x7fb6e1a4f0a0>,\n",
       " <__main__.customer at 0x7fb6e1a4f1c0>,\n",
       " <__main__.customer at 0x7fb6e1a4fca0>]"
      ]
     },
     "execution_count": 85,
     "metadata": {},
     "output_type": "execute_result"
    }
   ],
   "source": [
    "list1"
   ]
  },
  {
   "cell_type": "code",
   "execution_count": 87,
   "metadata": {},
   "outputs": [
    {
     "name": "stdout",
     "output_type": "stream",
     "text": [
      "7000.0\n"
     ]
    }
   ],
   "source": [
    "max_salary = -1\n",
    "index = -1\n",
    "\n",
    "for each in list1:\n",
    "    if(each.salary > max_salary):\n",
    "        max_salary = each.salary\n",
    "        index = each\n",
    "\n",
    "print(max_salary)"
   ]
  },
  {
   "cell_type": "code",
   "execution_count": 101,
   "metadata": {},
   "outputs": [
    {
     "name": "stdout",
     "output_type": "stream",
     "text": [
      "hi\n"
     ]
    }
   ],
   "source": [
    "class DataiTeam:\n",
    "\n",
    "    def __init__(self, x = \"hi\"):\n",
    "\n",
    "        self.x = x\n",
    "\n",
    "    def show(self):\n",
    "\n",
    "        print(self.x)\n",
    "\n",
    "my_class = DataiTeam()\n",
    "\n",
    "my_class.show()"
   ]
  }
 ],
 "metadata": {
  "kernelspec": {
   "display_name": "Python 3",
   "language": "python",
   "name": "python3"
  },
  "language_info": {
   "codemirror_mode": {
    "name": "ipython",
    "version": 3
   },
   "file_extension": ".py",
   "mimetype": "text/x-python",
   "name": "python",
   "nbconvert_exporter": "python",
   "pygments_lexer": "ipython3",
   "version": "3.8.3"
  }
 },
 "nbformat": 4,
 "nbformat_minor": 4
}
